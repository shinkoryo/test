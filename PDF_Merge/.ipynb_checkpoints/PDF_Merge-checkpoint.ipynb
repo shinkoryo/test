{
 "cells": [
  {
   "cell_type": "code",
   "execution_count": null,
   "metadata": {},
   "outputs": [],
   "source": [
    "import PyPDF2\n",
    "\n",
    "merger = PyPDF2.PdfFileMerger()"
   ]
  },
  {
   "cell_type": "code",
   "execution_count": null,
   "metadata": {},
   "outputs": [],
   "source": [
    "#merger.append(r\"C:\\Work\\80.Study\\Math\\ma_math\\101.pdf\")\n",
    "merger.append(r\"C:\\Work\\80.Study\\Math\\ma_math\\102.pdf\")\n",
    "merger.append(r\"C:\\Work\\80.Study\\Math\\ma_math\\103.pdf\")\n",
    "merger.append(r\"C:\\Work\\80.Study\\Math\\ma_math\\104.pdf\")\n",
    "merger.append(r\"C:\\Work\\80.Study\\Math\\ma_math\\211.pdf\")\n",
    "merger.append(r\"C:\\Work\\80.Study\\Math\\ma_math\\212.pdf\")\n",
    "merger.append(r\"C:\\Work\\80.Study\\Math\\ma_math\\213.pdf\")\n",
    "merger.append(r\"C:\\Work\\80.Study\\Math\\ma_math\\214.pdf\")\n",
    "merger.append(r\"C:\\Work\\80.Study\\Math\\ma_math\\215.pdf\")\n",
    "merger.append(r\"C:\\Work\\80.Study\\Math\\ma_math\\221.pdf\")"
   ]
  },
  {
   "cell_type": "code",
   "execution_count": null,
   "metadata": {},
   "outputs": [],
   "source": [
    "merger.write(r\"C:/Work/80.Study/Math/ma_math/sample_merge.pdf\")\n",
    "merger.close()"
   ]
  },
  {
   "cell_type": "code",
   "execution_count": null,
   "metadata": {},
   "outputs": [],
   "source": [
    "list = ['101', '102', '103', '104', '211', '212', '213', '214', '215', '221', '222', '223', '224', '225', '226', '231', '232', '233', '241', '242', '243', '244', '245', '246', '251', '252', '253', '254', '261', '262', '263', '264', '271', '272', '273', '281', '282', '283', '284', '285', '286', '291', '292', '293', '2101', '2102', '2111', '2112', '2113', '2114', '2121', '2122', '2123', '2124', '2125', '2131', '2132', '2133', '2134', '2141', '2142', '2143', '2144', '2151', '2152', '2153', '2154', '2155']\t"
   ]
  },
  {
   "cell_type": "code",
   "execution_count": null,
   "metadata": {},
   "outputs": [],
   "source": [
    "for lst in list:\n",
    "    pah = r\"C:\\\\Work\\80.Study\\Math\\ma_math\\\\\" + lst + \".pdf\"\n",
    "    merger.write(path)"
   ]
  },
  {
   "cell_type": "code",
   "execution_count": null,
   "metadata": {},
   "outputs": [],
   "source": []
  }
 ],
 "metadata": {
  "kernelspec": {
   "display_name": "Python 3",
   "language": "python",
   "name": "python3"
  },
  "language_info": {
   "codemirror_mode": {
    "name": "ipython",
    "version": 3
   },
   "file_extension": ".py",
   "mimetype": "text/x-python",
   "name": "python",
   "nbconvert_exporter": "python",
   "pygments_lexer": "ipython3",
   "version": "3.7.3"
  }
 },
 "nbformat": 4,
 "nbformat_minor": 2
}
