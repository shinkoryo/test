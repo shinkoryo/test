{
 "cells": [
  {
   "cell_type": "code",
   "execution_count": 1,
   "metadata": {},
   "outputs": [],
   "source": [
    "class Student:\n",
    "    def __init__(self, name, school):\n",
    "        self.name = name\n",
    "        self.school = school\n",
    "        self.marks = []\n",
    "\n",
    "    def average(self):\n",
    "        \"\"\"平均成績を返す\n",
    "\n",
    "        インスタンス変数にアクセスしたいのでinstancemethodを使う。\n",
    "        \"\"\"\n",
    "        return sum(self.marks) / len(self.marks)\n",
    "\n",
    "    @classmethod\n",
    "    def friend(cls, origin, friend_name, *args):\n",
    "        \"\"\"同じ学校の友達を追加する。\n",
    "\n",
    "        継承クラスで動作が変わるべき(継承クラスでは salaryプロパティがある)\n",
    "        なのでclassmethodを使う。\n",
    "        子クラスの初期化引数は *argsで受けるのがいい\n",
    "        \"\"\"\n",
    "        return cls(friend_name, origin.school, *args)\n",
    "\n",
    "    @staticmethod\n",
    "    def say_hello():\n",
    "        \"\"\"先生に挨拶する\n",
    "\n",
    "        継承しても同じ動きでいいのでstaticmethodを使う\n",
    "        \"\"\"\n",
    "        print(\"Hello Teacher!\")\n",
    "\n",
    "class WorkingStudent(Student):\n",
    "    def __init__(self, name, school, salary):\n",
    "        super().__init__(name, school)\n",
    "        self.salary = salary"
   ]
  },
  {
   "cell_type": "code",
   "execution_count": 3,
   "metadata": {},
   "outputs": [],
   "source": [
    "hiro = WorkingStudent(\"Hiro\", \"Stanford\", 20.00)\n",
    "mitsu = WorkingStudent.friend(hiro, \"Mitsu\", 15.00)"
   ]
  },
  {
   "cell_type": "code",
   "execution_count": 7,
   "metadata": {},
   "outputs": [
    {
     "name": "stdout",
     "output_type": "stream",
     "text": [
      "<class '__main__.WorkingStudent'>\n",
      "<class '__main__.WorkingStudent'>\n"
     ]
    }
   ],
   "source": [
    "print(type(hiro))\n",
    "print(type(mitsu))"
   ]
  },
  {
   "cell_type": "code",
   "execution_count": 12,
   "metadata": {},
   "outputs": [
    {
     "name": "stdout",
     "output_type": "stream",
     "text": [
      "Mitsu\n",
      "Hiro\n"
     ]
    }
   ],
   "source": [
    "print(mitsu.name)\n",
    "print(hiro.name)"
   ]
  },
  {
   "cell_type": "code",
   "execution_count": null,
   "metadata": {},
   "outputs": [],
   "source": []
  }
 ],
 "metadata": {
  "kernelspec": {
   "display_name": "Python 3",
   "language": "python",
   "name": "python3"
  },
  "language_info": {
   "codemirror_mode": {
    "name": "ipython",
    "version": 3
   },
   "file_extension": ".py",
   "mimetype": "text/x-python",
   "name": "python",
   "nbconvert_exporter": "python",
   "pygments_lexer": "ipython3",
   "version": "3.7.3"
  }
 },
 "nbformat": 4,
 "nbformat_minor": 2
}
