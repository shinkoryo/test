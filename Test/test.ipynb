{
 "cells": [
  {
   "cell_type": "code",
   "execution_count": 3,
   "metadata": {},
   "outputs": [
    {
     "name": "stdout",
     "output_type": "stream",
     "text": [
      "hogehoge\n"
     ]
    },
    {
     "ename": "NotImplementedError",
     "evalue": "",
     "output_type": "error",
     "traceback": [
      "\u001b[1;31m---------------------------------------------------------------------------\u001b[0m",
      "\u001b[1;31mNotImplementedError\u001b[0m                       Traceback (most recent call last)",
      "\u001b[1;32m<ipython-input-3-da480ee6c473>\u001b[0m in \u001b[0;36m<module>\u001b[1;34m\u001b[0m\n\u001b[0;32m     18\u001b[0m \u001b[1;33m\u001b[0m\u001b[0m\n\u001b[0;32m     19\u001b[0m     \u001b[0mtest2\u001b[0m \u001b[1;33m=\u001b[0m \u001b[0mTest2\u001b[0m\u001b[1;33m(\u001b[0m\u001b[1;33m)\u001b[0m\u001b[1;33m\u001b[0m\u001b[1;33m\u001b[0m\u001b[0m\n\u001b[1;32m---> 20\u001b[1;33m     \u001b[0mtest2\u001b[0m\u001b[1;33m.\u001b[0m\u001b[0mhogehoge\u001b[0m\u001b[1;33m(\u001b[0m\u001b[1;33m)\u001b[0m\u001b[1;33m\u001b[0m\u001b[1;33m\u001b[0m\u001b[0m\n\u001b[0m\u001b[0;32m     21\u001b[0m \u001b[1;33m\u001b[0m\u001b[0m\n",
      "\u001b[1;32m<ipython-input-3-da480ee6c473>\u001b[0m in \u001b[0;36mhogehoge\u001b[1;34m(self)\u001b[0m\n\u001b[0;32m      1\u001b[0m \u001b[1;32mclass\u001b[0m \u001b[0mBaseTest\u001b[0m\u001b[1;33m(\u001b[0m\u001b[0mobject\u001b[0m\u001b[1;33m)\u001b[0m\u001b[1;33m:\u001b[0m\u001b[1;33m\u001b[0m\u001b[1;33m\u001b[0m\u001b[0m\n\u001b[0;32m      2\u001b[0m     \u001b[1;32mdef\u001b[0m \u001b[0mhogehoge\u001b[0m\u001b[1;33m(\u001b[0m\u001b[0mself\u001b[0m\u001b[1;33m)\u001b[0m\u001b[1;33m:\u001b[0m\u001b[1;33m\u001b[0m\u001b[1;33m\u001b[0m\u001b[0m\n\u001b[1;32m----> 3\u001b[1;33m         \u001b[1;32mraise\u001b[0m \u001b[0mNotImplementedError\u001b[0m\u001b[1;33m(\u001b[0m\u001b[1;33m)\u001b[0m\u001b[1;33m\u001b[0m\u001b[1;33m\u001b[0m\u001b[0m\n\u001b[0m\u001b[0;32m      4\u001b[0m \u001b[1;33m\u001b[0m\u001b[0m\n\u001b[0;32m      5\u001b[0m \u001b[1;33m\u001b[0m\u001b[0m\n",
      "\u001b[1;31mNotImplementedError\u001b[0m: "
     ]
    }
   ],
   "source": [
    "class BaseTest(object):\n",
    "    def hogehoge(self):\n",
    "        raise NotImplementedError()\n",
    "\n",
    "\n",
    "class Test(BaseTest):\n",
    "    def hogehoge(self):\n",
    "        print(\"hogehoge\")\n",
    "\n",
    "\n",
    "class Test2(BaseTest):\n",
    "    pass\n",
    "\n",
    "\n",
    "if __name__ == \"__main__\":\n",
    "    test = Test()\n",
    "    test.hogehoge()\n",
    "\n",
    "    test2 = Test2()\n",
    "    test2.hogehoge()\n",
    "    "
   ]
  },
  {
   "cell_type": "code",
   "execution_count": 46,
   "metadata": {},
   "outputs": [],
   "source": [
    "from abc import ABCMeta, abstractmethod\n",
    "\n",
    "class Abstract(metaclass=ABCMeta):\n",
    "\n",
    "    def __init__(self, name):\n",
    "        self.name = name\n",
    "\n",
    "    @classmethod\n",
    "    @abstractmethod\n",
    "    def uppercase(cls, name):\n",
    "        raise NotImplementedError()\n",
    "\n",
    "    def explain(self):\n",
    "        print(self.name)\n",
    "\n",
    "    @abstractmethod\n",
    "    def hello(self):\n",
    "        raise NotImplementedError()\n",
    "\n",
    "\n",
    "class Implement(Abstract):\n",
    "    @classmethod\n",
    "    def uppercase(cls, name):\n",
    "        return name.upper() + ' by Impl'    "
   ]
  },
  {
   "cell_type": "code",
   "execution_count": 49,
   "metadata": {},
   "outputs": [
    {
     "name": "stdout",
     "output_type": "stream",
     "text": [
      "A by Impl\n"
     ]
    }
   ],
   "source": [
    "if __name__ == \"__main__\":\n",
    "    A = Implement.uppercase('a')\n",
    "    print(A)\n",
    "#    impl = Implement.uppercase('John')\n",
    "    #impl.explain()  # JOHN by Impl\n",
    "#    Implement.hello('John')  # Hello JOHN by Impl"
   ]
  },
  {
   "cell_type": "code",
   "execution_count": 26,
   "metadata": {},
   "outputs": [],
   "source": [
    "class AbsAnimal(metaclass=ABCMeta):\n",
    "    @abstractmethod\n",
    "    def eat(self):\n",
    "        pass\n",
    "\n",
    "class Human(AbsAnimal):\n",
    "    def eat(self):\n",
    "        print('おいしい!')\n",
    "\n",
    "tmp = Human()\n",
    "#tmp.eat()"
   ]
  },
  {
   "cell_type": "code",
   "execution_count": 1,
   "metadata": {},
   "outputs": [
    {
     "ename": "ModuleNotFoundError",
     "evalue": "No module named 'bubbles'",
     "output_type": "error",
     "traceback": [
      "\u001b[1;31m---------------------------------------------------------------------------\u001b[0m",
      "\u001b[1;31mModuleNotFoundError\u001b[0m                       Traceback (most recent call last)",
      "\u001b[1;32m<ipython-input-1-2bcce31ff8d8>\u001b[0m in \u001b[0;36m<module>\u001b[1;34m\u001b[0m\n\u001b[1;32m----> 1\u001b[1;33m \u001b[1;32mimport\u001b[0m \u001b[0mbubbles\u001b[0m\u001b[1;33m\u001b[0m\u001b[1;33m\u001b[0m\u001b[0m\n\u001b[0m",
      "\u001b[1;31mModuleNotFoundError\u001b[0m: No module named 'bubbles'"
     ]
    }
   ],
   "source": [
    "import bubbles"
   ]
  },
  {
   "cell_type": "code",
   "execution_count": 49,
   "metadata": {},
   "outputs": [],
   "source": [
    "import pandas as pd\n",
    "test = {'AAA':[(1,2,'a'),(2,3,'b'),(5,6,'c'),(7,8,'d')],'BBB':[(22,33,'aa'),(55,66,'bb')]}"
   ]
  },
  {
   "cell_type": "code",
   "execution_count": 59,
   "metadata": {},
   "outputs": [
    {
     "name": "stdout",
     "output_type": "stream",
     "text": [
      "AAA\n",
      "a (1, 2, 'a')\n",
      "b (2, 3, 'b')\n",
      "c (5, 6, 'c')\n",
      "BBB\n",
      "c (22, 33, 'aa')\n"
     ]
    }
   ],
   "source": [
    "lst = {}\n",
    "name = ['a', 'b','c']\n",
    "for k, v in test.items():\n",
    "    print(k)\n",
    "    for name, v in zip(name, v):\n",
    "        print(name, v)"
   ]
  },
  {
   "cell_type": "code",
   "execution_count": 54,
   "metadata": {},
   "outputs": [],
   "source": [
    "AAA = [v for k, v in test.items() if k == 'AAA']"
   ]
  },
  {
   "cell_type": "code",
   "execution_count": 55,
   "metadata": {},
   "outputs": [
    {
     "data": {
      "text/plain": [
       "[[(1, 2, 'a'), (2, 3, 'b'), (5, 6, 'c'), (7, 8, 'd')]]"
      ]
     },
     "execution_count": 55,
     "metadata": {},
     "output_type": "execute_result"
    }
   ],
   "source": [
    "AAA"
   ]
  },
  {
   "cell_type": "code",
   "execution_count": 56,
   "metadata": {},
   "outputs": [
    {
     "name": "stdout",
     "output_type": "stream",
     "text": [
      "Alice 24\n",
      "Bob 50\n",
      "Charlie 18\n"
     ]
    }
   ],
   "source": [
    "names = ['Alice', 'Bob', 'Charlie']\n",
    "ages = [24, 50, 18]\n",
    "\n",
    "for name, age in zip(names, ages):\n",
    "    print(name, age)\n",
    "# Alice 24\n",
    "# Bob 50\n",
    "# Charlie 18"
   ]
  },
  {
   "cell_type": "code",
   "execution_count": 60,
   "metadata": {},
   "outputs": [],
   "source": [
    "d = { str(x):x*3 for x in range(10) }"
   ]
  },
  {
   "cell_type": "code",
   "execution_count": 61,
   "metadata": {},
   "outputs": [
    {
     "data": {
      "text/plain": [
       "{'0': 0,\n",
       " '1': 3,\n",
       " '2': 6,\n",
       " '3': 9,\n",
       " '4': 12,\n",
       " '5': 15,\n",
       " '6': 18,\n",
       " '7': 21,\n",
       " '8': 24,\n",
       " '9': 27}"
      ]
     },
     "execution_count": 61,
     "metadata": {},
     "output_type": "execute_result"
    }
   ],
   "source": [
    "d"
   ]
  },
  {
   "cell_type": "code",
   "execution_count": 93,
   "metadata": {},
   "outputs": [
    {
     "name": "stdout",
     "output_type": "stream",
     "text": [
      "[(1, 2, 'a'), (2, 3, 'b'), (5, 6, 'c'), (7, 8, 'd')]\n",
      "[(22, 33, 'aa'), (55, 66, 'bb')]\n"
     ]
    }
   ],
   "source": [
    "lst = {}\n",
    "name = ['a', 'b','c']\n",
    "for k, v in test.items():\n",
    "    print(list(v))\n",
    "    lst[k] = {k:{'a':p[0],'b':p[1],'c':p[2]} for p in v }"
   ]
  },
  {
   "cell_type": "code",
   "execution_count": 94,
   "metadata": {},
   "outputs": [
    {
     "data": {
      "text/plain": [
       "{'AAA': {'AAA': {'a': 7, 'b': 8, 'c': 'd'}},\n",
       " 'BBB': {'BBB': {'a': 55, 'b': 66, 'c': 'bb'}}}"
      ]
     },
     "execution_count": 94,
     "metadata": {},
     "output_type": "execute_result"
    }
   ],
   "source": [
    "lst"
   ]
  },
  {
   "cell_type": "code",
   "execution_count": 76,
   "metadata": {},
   "outputs": [
    {
     "data": {
      "text/plain": [
       "{'AAA': [(1, 2, 'a'), (2, 3, 'b'), (5, 6, 'c'), (7, 8, 'd')],\n",
       " 'BBB': [(22, 33, 'aa'), (55, 66, 'bb')]}"
      ]
     },
     "execution_count": 76,
     "metadata": {},
     "output_type": "execute_result"
    }
   ],
   "source": [
    "test"
   ]
  },
  {
   "cell_type": "code",
   "execution_count": 178,
   "metadata": {},
   "outputs": [],
   "source": [
    "import pandas as pd\n",
    "\n",
    "testa = pd.DataFrame({'A': [1, 2, 3],\n",
    "                   'B': [12, 2, 3],\n",
    "                   'C': [13, 2, 3]},\n",
    "                  index=['ONE', 'TWO', 'THREE'])\n",
    "\n",
    "testb = pd.DataFrame({'A': [1, 2, 3],\n",
    "                   'D': [1, 2, 5],\n",
    "                   'E': [1, 3, 6]},\n",
    "                  index=['ONE', 'TWO', 'THREE'])"
   ]
  },
  {
   "cell_type": "code",
   "execution_count": 179,
   "metadata": {},
   "outputs": [
    {
     "data": {
      "text/html": [
       "<div>\n",
       "<style scoped>\n",
       "    .dataframe tbody tr th:only-of-type {\n",
       "        vertical-align: middle;\n",
       "    }\n",
       "\n",
       "    .dataframe tbody tr th {\n",
       "        vertical-align: top;\n",
       "    }\n",
       "\n",
       "    .dataframe thead th {\n",
       "        text-align: right;\n",
       "    }\n",
       "</style>\n",
       "<table border=\"1\" class=\"dataframe\">\n",
       "  <thead>\n",
       "    <tr style=\"text-align: right;\">\n",
       "      <th></th>\n",
       "      <th>A</th>\n",
       "      <th>B</th>\n",
       "      <th>C</th>\n",
       "    </tr>\n",
       "  </thead>\n",
       "  <tbody>\n",
       "    <tr>\n",
       "      <th>ONE</th>\n",
       "      <td>1</td>\n",
       "      <td>12</td>\n",
       "      <td>13</td>\n",
       "    </tr>\n",
       "    <tr>\n",
       "      <th>TWO</th>\n",
       "      <td>2</td>\n",
       "      <td>2</td>\n",
       "      <td>2</td>\n",
       "    </tr>\n",
       "    <tr>\n",
       "      <th>THREE</th>\n",
       "      <td>3</td>\n",
       "      <td>3</td>\n",
       "      <td>3</td>\n",
       "    </tr>\n",
       "  </tbody>\n",
       "</table>\n",
       "</div>"
      ],
      "text/plain": [
       "       A   B   C\n",
       "ONE    1  12  13\n",
       "TWO    2   2   2\n",
       "THREE  3   3   3"
      ]
     },
     "execution_count": 179,
     "metadata": {},
     "output_type": "execute_result"
    }
   ],
   "source": [
    "testa"
   ]
  },
  {
   "cell_type": "code",
   "execution_count": 180,
   "metadata": {},
   "outputs": [
    {
     "data": {
      "text/html": [
       "<div>\n",
       "<style scoped>\n",
       "    .dataframe tbody tr th:only-of-type {\n",
       "        vertical-align: middle;\n",
       "    }\n",
       "\n",
       "    .dataframe tbody tr th {\n",
       "        vertical-align: top;\n",
       "    }\n",
       "\n",
       "    .dataframe thead th {\n",
       "        text-align: right;\n",
       "    }\n",
       "</style>\n",
       "<table border=\"1\" class=\"dataframe\">\n",
       "  <thead>\n",
       "    <tr style=\"text-align: right;\">\n",
       "      <th></th>\n",
       "      <th>A</th>\n",
       "      <th>D</th>\n",
       "      <th>E</th>\n",
       "    </tr>\n",
       "  </thead>\n",
       "  <tbody>\n",
       "    <tr>\n",
       "      <th>ONE</th>\n",
       "      <td>1</td>\n",
       "      <td>1</td>\n",
       "      <td>1</td>\n",
       "    </tr>\n",
       "    <tr>\n",
       "      <th>TWO</th>\n",
       "      <td>2</td>\n",
       "      <td>2</td>\n",
       "      <td>3</td>\n",
       "    </tr>\n",
       "    <tr>\n",
       "      <th>THREE</th>\n",
       "      <td>3</td>\n",
       "      <td>5</td>\n",
       "      <td>6</td>\n",
       "    </tr>\n",
       "  </tbody>\n",
       "</table>\n",
       "</div>"
      ],
      "text/plain": [
       "       A  D  E\n",
       "ONE    1  1  1\n",
       "TWO    2  2  3\n",
       "THREE  3  5  6"
      ]
     },
     "execution_count": 180,
     "metadata": {},
     "output_type": "execute_result"
    }
   ],
   "source": [
    "testb"
   ]
  },
  {
   "cell_type": "code",
   "execution_count": 181,
   "metadata": {},
   "outputs": [],
   "source": [
    "testc = pd.merge(testa, testb, on='A')"
   ]
  },
  {
   "cell_type": "code",
   "execution_count": 182,
   "metadata": {},
   "outputs": [
    {
     "data": {
      "text/html": [
       "<div>\n",
       "<style scoped>\n",
       "    .dataframe tbody tr th:only-of-type {\n",
       "        vertical-align: middle;\n",
       "    }\n",
       "\n",
       "    .dataframe tbody tr th {\n",
       "        vertical-align: top;\n",
       "    }\n",
       "\n",
       "    .dataframe thead th {\n",
       "        text-align: right;\n",
       "    }\n",
       "</style>\n",
       "<table border=\"1\" class=\"dataframe\">\n",
       "  <thead>\n",
       "    <tr style=\"text-align: right;\">\n",
       "      <th></th>\n",
       "      <th>A</th>\n",
       "      <th>B</th>\n",
       "      <th>C</th>\n",
       "      <th>D</th>\n",
       "      <th>E</th>\n",
       "    </tr>\n",
       "  </thead>\n",
       "  <tbody>\n",
       "    <tr>\n",
       "      <th>0</th>\n",
       "      <td>1</td>\n",
       "      <td>12</td>\n",
       "      <td>13</td>\n",
       "      <td>1</td>\n",
       "      <td>1</td>\n",
       "    </tr>\n",
       "    <tr>\n",
       "      <th>1</th>\n",
       "      <td>2</td>\n",
       "      <td>2</td>\n",
       "      <td>2</td>\n",
       "      <td>2</td>\n",
       "      <td>3</td>\n",
       "    </tr>\n",
       "    <tr>\n",
       "      <th>2</th>\n",
       "      <td>3</td>\n",
       "      <td>3</td>\n",
       "      <td>3</td>\n",
       "      <td>5</td>\n",
       "      <td>6</td>\n",
       "    </tr>\n",
       "  </tbody>\n",
       "</table>\n",
       "</div>"
      ],
      "text/plain": [
       "   A   B   C  D  E\n",
       "0  1  12  13  1  1\n",
       "1  2   2   2  2  3\n",
       "2  3   3   3  5  6"
      ]
     },
     "execution_count": 182,
     "metadata": {},
     "output_type": "execute_result"
    }
   ],
   "source": [
    "testc"
   ]
  },
  {
   "cell_type": "code",
   "execution_count": 183,
   "metadata": {},
   "outputs": [],
   "source": [
    "def cal_t(m,a, b ,c, d, e, n):\n",
    "    a = m[a]\n",
    "    b = m[b]\n",
    "    c = m[c]\n",
    "    d = m[d]\n",
    "    e = m[e]\n",
    "    if a > 15:\n",
    "        rtn = n * (d +b+c)\n",
    "    else:\n",
    "        rtn = n * (b + c) + e*d\n",
    "    return rtn"
   ]
  },
  {
   "cell_type": "code",
   "execution_count": 184,
   "metadata": {},
   "outputs": [],
   "source": [
    "testc['N'] = testc.apply(cal_t,  axis = 1, args = ('A', 'B', 'C', 'D', 'E',10))"
   ]
  },
  {
   "cell_type": "code",
   "execution_count": 185,
   "metadata": {},
   "outputs": [
    {
     "data": {
      "text/html": [
       "<div>\n",
       "<style scoped>\n",
       "    .dataframe tbody tr th:only-of-type {\n",
       "        vertical-align: middle;\n",
       "    }\n",
       "\n",
       "    .dataframe tbody tr th {\n",
       "        vertical-align: top;\n",
       "    }\n",
       "\n",
       "    .dataframe thead th {\n",
       "        text-align: right;\n",
       "    }\n",
       "</style>\n",
       "<table border=\"1\" class=\"dataframe\">\n",
       "  <thead>\n",
       "    <tr style=\"text-align: right;\">\n",
       "      <th></th>\n",
       "      <th>A</th>\n",
       "      <th>B</th>\n",
       "      <th>C</th>\n",
       "      <th>D</th>\n",
       "      <th>E</th>\n",
       "      <th>N</th>\n",
       "    </tr>\n",
       "  </thead>\n",
       "  <tbody>\n",
       "    <tr>\n",
       "      <th>0</th>\n",
       "      <td>1</td>\n",
       "      <td>12</td>\n",
       "      <td>13</td>\n",
       "      <td>1</td>\n",
       "      <td>1</td>\n",
       "      <td>251</td>\n",
       "    </tr>\n",
       "    <tr>\n",
       "      <th>1</th>\n",
       "      <td>2</td>\n",
       "      <td>2</td>\n",
       "      <td>2</td>\n",
       "      <td>2</td>\n",
       "      <td>3</td>\n",
       "      <td>46</td>\n",
       "    </tr>\n",
       "    <tr>\n",
       "      <th>2</th>\n",
       "      <td>3</td>\n",
       "      <td>3</td>\n",
       "      <td>3</td>\n",
       "      <td>5</td>\n",
       "      <td>6</td>\n",
       "      <td>90</td>\n",
       "    </tr>\n",
       "  </tbody>\n",
       "</table>\n",
       "</div>"
      ],
      "text/plain": [
       "   A   B   C  D  E    N\n",
       "0  1  12  13  1  1  251\n",
       "1  2   2   2  2  3   46\n",
       "2  3   3   3  5  6   90"
      ]
     },
     "execution_count": 185,
     "metadata": {},
     "output_type": "execute_result"
    }
   ],
   "source": [
    "testc"
   ]
  },
  {
   "cell_type": "code",
   "execution_count": 140,
   "metadata": {},
   "outputs": [],
   "source": [
    "m = cal(1,2,3,4,5,6)"
   ]
  },
  {
   "cell_type": "code",
   "execution_count": 141,
   "metadata": {},
   "outputs": [
    {
     "data": {
      "text/plain": [
       "62"
      ]
     },
     "execution_count": 141,
     "metadata": {},
     "output_type": "execute_result"
    }
   ],
   "source": [
    "m"
   ]
  },
  {
   "cell_type": "code",
   "execution_count": null,
   "metadata": {},
   "outputs": [],
   "source": [
    "df['TimeInterval'] = df.apply(getInterval_new , axis = 1, args = ('ReceivedTime','PublishedTime'))"
   ]
  },
  {
   "cell_type": "code",
   "execution_count": null,
   "metadata": {},
   "outputs": [],
   "source": []
  },
  {
   "cell_type": "code",
   "execution_count": 72,
   "metadata": {},
   "outputs": [
    {
     "data": {
      "text/html": [
       "<div>\n",
       "<style scoped>\n",
       "    .dataframe tbody tr th:only-of-type {\n",
       "        vertical-align: middle;\n",
       "    }\n",
       "\n",
       "    .dataframe tbody tr th {\n",
       "        vertical-align: top;\n",
       "    }\n",
       "\n",
       "    .dataframe thead th {\n",
       "        text-align: right;\n",
       "    }\n",
       "</style>\n",
       "<table border=\"1\" class=\"dataframe\">\n",
       "  <thead>\n",
       "    <tr style=\"text-align: right;\">\n",
       "      <th></th>\n",
       "      <th>A</th>\n",
       "      <th>B</th>\n",
       "      <th>C</th>\n",
       "      <th>D</th>\n",
       "    </tr>\n",
       "  </thead>\n",
       "  <tbody>\n",
       "    <tr>\n",
       "      <th>0</th>\n",
       "      <td>-20</td>\n",
       "      <td>2017-12-01 12:24</td>\n",
       "      <td>2017-12-11 12:24</td>\n",
       "      <td>2017-11-01 12:24</td>\n",
       "    </tr>\n",
       "    <tr>\n",
       "      <th>1</th>\n",
       "      <td>-10</td>\n",
       "      <td>2017-11-01 12:24</td>\n",
       "      <td>2017-11-01 12:24</td>\n",
       "      <td>2017-12-01 12:24</td>\n",
       "    </tr>\n",
       "    <tr>\n",
       "      <th>2</th>\n",
       "      <td>0</td>\n",
       "      <td>2017-11-01 12:24</td>\n",
       "      <td>NaN</td>\n",
       "      <td>2017-11-01 12:24</td>\n",
       "    </tr>\n",
       "    <tr>\n",
       "      <th>3</th>\n",
       "      <td>10</td>\n",
       "      <td>2017-11-01 12:24</td>\n",
       "      <td>NaN</td>\n",
       "      <td>NaN</td>\n",
       "    </tr>\n",
       "    <tr>\n",
       "      <th>4</th>\n",
       "      <td>20</td>\n",
       "      <td>NaN</td>\n",
       "      <td>NaN</td>\n",
       "      <td>NaN</td>\n",
       "    </tr>\n",
       "  </tbody>\n",
       "</table>\n",
       "</div>"
      ],
      "text/plain": [
       "    A                 B                 C                 D\n",
       "0 -20  2017-12-01 12:24  2017-12-11 12:24  2017-11-01 12:24\n",
       "1 -10  2017-11-01 12:24  2017-11-01 12:24  2017-12-01 12:24\n",
       "2   0  2017-11-01 12:24               NaN  2017-11-01 12:24\n",
       "3  10  2017-11-01 12:24               NaN               NaN\n",
       "4  20               NaN               NaN               NaN"
      ]
     },
     "execution_count": 72,
     "metadata": {},
     "output_type": "execute_result"
    }
   ],
   "source": [
    "import numpy as np\n",
    "import pandas as pd\n",
    "\n",
    "\n",
    "# df = pd.DataFrame(np.arange(12.0, 32.0).reshape((5, 4)), index=[\"a\", \"b\", \"c\", \"d\", \"e\"], columns=[\"WW\", \"XX\", \"YY\", \"ZZ\"])\n",
    "\n",
    "df = pd.DataFrame({'A': [-20, -10, 0, 10, 20],\n",
    "                   'B': ['2017-12-01 12:24', '2017-11-01 12:24', '2017-11-01 12:24', '2017-11-01 12:24', np.nan],\n",
    "                   'C': ['2017-12-11 12:24', '2017-11-01 12:24', np.nan, np.nan, np.nan],\n",
    "                   'D': ['2017-11-01 12:24', '2017-12-01 12:24', '2017-11-01 12:24', np.nan, np.nan]})\n",
    "\n",
    "df"
   ]
  },
  {
   "cell_type": "code",
   "execution_count": 73,
   "metadata": {},
   "outputs": [],
   "source": [
    "df['E'] = pd.to_datetime(df['B'])\n",
    "df['F'] = pd.to_datetime(df['C'])\n",
    "df['G'] = pd.to_datetime(df['D'])"
   ]
  },
  {
   "cell_type": "code",
   "execution_count": 74,
   "metadata": {},
   "outputs": [
    {
     "data": {
      "text/html": [
       "<div>\n",
       "<style scoped>\n",
       "    .dataframe tbody tr th:only-of-type {\n",
       "        vertical-align: middle;\n",
       "    }\n",
       "\n",
       "    .dataframe tbody tr th {\n",
       "        vertical-align: top;\n",
       "    }\n",
       "\n",
       "    .dataframe thead th {\n",
       "        text-align: right;\n",
       "    }\n",
       "</style>\n",
       "<table border=\"1\" class=\"dataframe\">\n",
       "  <thead>\n",
       "    <tr style=\"text-align: right;\">\n",
       "      <th></th>\n",
       "      <th>A</th>\n",
       "      <th>B</th>\n",
       "      <th>C</th>\n",
       "      <th>D</th>\n",
       "      <th>E</th>\n",
       "      <th>F</th>\n",
       "      <th>G</th>\n",
       "    </tr>\n",
       "  </thead>\n",
       "  <tbody>\n",
       "    <tr>\n",
       "      <th>0</th>\n",
       "      <td>-20</td>\n",
       "      <td>2017-12-01 12:24</td>\n",
       "      <td>2017-12-11 12:24</td>\n",
       "      <td>2017-11-01 12:24</td>\n",
       "      <td>2017-12-01 12:24:00</td>\n",
       "      <td>2017-12-11 12:24:00</td>\n",
       "      <td>2017-11-01 12:24:00</td>\n",
       "    </tr>\n",
       "    <tr>\n",
       "      <th>1</th>\n",
       "      <td>-10</td>\n",
       "      <td>2017-11-01 12:24</td>\n",
       "      <td>2017-11-01 12:24</td>\n",
       "      <td>2017-12-01 12:24</td>\n",
       "      <td>2017-11-01 12:24:00</td>\n",
       "      <td>2017-11-01 12:24:00</td>\n",
       "      <td>2017-12-01 12:24:00</td>\n",
       "    </tr>\n",
       "    <tr>\n",
       "      <th>2</th>\n",
       "      <td>0</td>\n",
       "      <td>2017-11-01 12:24</td>\n",
       "      <td>NaN</td>\n",
       "      <td>2017-11-01 12:24</td>\n",
       "      <td>2017-11-01 12:24:00</td>\n",
       "      <td>NaT</td>\n",
       "      <td>2017-11-01 12:24:00</td>\n",
       "    </tr>\n",
       "    <tr>\n",
       "      <th>3</th>\n",
       "      <td>10</td>\n",
       "      <td>2017-11-01 12:24</td>\n",
       "      <td>NaN</td>\n",
       "      <td>NaN</td>\n",
       "      <td>2017-11-01 12:24:00</td>\n",
       "      <td>NaT</td>\n",
       "      <td>NaT</td>\n",
       "    </tr>\n",
       "    <tr>\n",
       "      <th>4</th>\n",
       "      <td>20</td>\n",
       "      <td>NaN</td>\n",
       "      <td>NaN</td>\n",
       "      <td>NaN</td>\n",
       "      <td>NaT</td>\n",
       "      <td>NaT</td>\n",
       "      <td>NaT</td>\n",
       "    </tr>\n",
       "  </tbody>\n",
       "</table>\n",
       "</div>"
      ],
      "text/plain": [
       "    A                 B                 C                 D  \\\n",
       "0 -20  2017-12-01 12:24  2017-12-11 12:24  2017-11-01 12:24   \n",
       "1 -10  2017-11-01 12:24  2017-11-01 12:24  2017-12-01 12:24   \n",
       "2   0  2017-11-01 12:24               NaN  2017-11-01 12:24   \n",
       "3  10  2017-11-01 12:24               NaN               NaN   \n",
       "4  20               NaN               NaN               NaN   \n",
       "\n",
       "                    E                   F                   G  \n",
       "0 2017-12-01 12:24:00 2017-12-11 12:24:00 2017-11-01 12:24:00  \n",
       "1 2017-11-01 12:24:00 2017-11-01 12:24:00 2017-12-01 12:24:00  \n",
       "2 2017-11-01 12:24:00                 NaT 2017-11-01 12:24:00  \n",
       "3 2017-11-01 12:24:00                 NaT                 NaT  \n",
       "4                 NaT                 NaT                 NaT  "
      ]
     },
     "execution_count": 74,
     "metadata": {},
     "output_type": "execute_result"
    }
   ],
   "source": [
    "df"
   ]
  },
  {
   "cell_type": "code",
   "execution_count": 79,
   "metadata": {},
   "outputs": [],
   "source": [
    "# df['max'] = np.vstack([df['E'],df['F']]).max(axis =0)\n",
    "df['max'] = np.vstack([df['E'],df['F'],df['G']]).max(axis =0)"
   ]
  },
  {
   "cell_type": "code",
   "execution_count": 80,
   "metadata": {},
   "outputs": [
    {
     "data": {
      "text/html": [
       "<div>\n",
       "<style scoped>\n",
       "    .dataframe tbody tr th:only-of-type {\n",
       "        vertical-align: middle;\n",
       "    }\n",
       "\n",
       "    .dataframe tbody tr th {\n",
       "        vertical-align: top;\n",
       "    }\n",
       "\n",
       "    .dataframe thead th {\n",
       "        text-align: right;\n",
       "    }\n",
       "</style>\n",
       "<table border=\"1\" class=\"dataframe\">\n",
       "  <thead>\n",
       "    <tr style=\"text-align: right;\">\n",
       "      <th></th>\n",
       "      <th>A</th>\n",
       "      <th>B</th>\n",
       "      <th>C</th>\n",
       "      <th>D</th>\n",
       "      <th>E</th>\n",
       "      <th>F</th>\n",
       "      <th>G</th>\n",
       "      <th>max</th>\n",
       "    </tr>\n",
       "  </thead>\n",
       "  <tbody>\n",
       "    <tr>\n",
       "      <th>0</th>\n",
       "      <td>-20</td>\n",
       "      <td>2017-12-01 12:24</td>\n",
       "      <td>2017-12-11 12:24</td>\n",
       "      <td>2017-11-01 12:24</td>\n",
       "      <td>2017-12-01 12:24:00</td>\n",
       "      <td>2017-12-11 12:24:00</td>\n",
       "      <td>2017-11-01 12:24:00</td>\n",
       "      <td>2017-12-11 12:24:00</td>\n",
       "    </tr>\n",
       "    <tr>\n",
       "      <th>1</th>\n",
       "      <td>-10</td>\n",
       "      <td>2017-11-01 12:24</td>\n",
       "      <td>2017-11-01 12:24</td>\n",
       "      <td>2017-12-01 12:24</td>\n",
       "      <td>2017-11-01 12:24:00</td>\n",
       "      <td>2017-11-01 12:24:00</td>\n",
       "      <td>2017-12-01 12:24:00</td>\n",
       "      <td>2017-12-01 12:24:00</td>\n",
       "    </tr>\n",
       "    <tr>\n",
       "      <th>2</th>\n",
       "      <td>0</td>\n",
       "      <td>2017-11-01 12:24</td>\n",
       "      <td>NaN</td>\n",
       "      <td>2017-11-01 12:24</td>\n",
       "      <td>2017-11-01 12:24:00</td>\n",
       "      <td>NaT</td>\n",
       "      <td>2017-11-01 12:24:00</td>\n",
       "      <td>2017-11-01 12:24:00</td>\n",
       "    </tr>\n",
       "    <tr>\n",
       "      <th>3</th>\n",
       "      <td>10</td>\n",
       "      <td>2017-11-01 12:24</td>\n",
       "      <td>NaN</td>\n",
       "      <td>NaN</td>\n",
       "      <td>2017-11-01 12:24:00</td>\n",
       "      <td>NaT</td>\n",
       "      <td>NaT</td>\n",
       "      <td>2017-11-01 12:24:00</td>\n",
       "    </tr>\n",
       "    <tr>\n",
       "      <th>4</th>\n",
       "      <td>20</td>\n",
       "      <td>NaN</td>\n",
       "      <td>NaN</td>\n",
       "      <td>NaN</td>\n",
       "      <td>NaT</td>\n",
       "      <td>NaT</td>\n",
       "      <td>NaT</td>\n",
       "      <td>NaT</td>\n",
       "    </tr>\n",
       "  </tbody>\n",
       "</table>\n",
       "</div>"
      ],
      "text/plain": [
       "    A                 B                 C                 D  \\\n",
       "0 -20  2017-12-01 12:24  2017-12-11 12:24  2017-11-01 12:24   \n",
       "1 -10  2017-11-01 12:24  2017-11-01 12:24  2017-12-01 12:24   \n",
       "2   0  2017-11-01 12:24               NaN  2017-11-01 12:24   \n",
       "3  10  2017-11-01 12:24               NaN               NaN   \n",
       "4  20               NaN               NaN               NaN   \n",
       "\n",
       "                    E                   F                   G  \\\n",
       "0 2017-12-01 12:24:00 2017-12-11 12:24:00 2017-11-01 12:24:00   \n",
       "1 2017-11-01 12:24:00 2017-11-01 12:24:00 2017-12-01 12:24:00   \n",
       "2 2017-11-01 12:24:00                 NaT 2017-11-01 12:24:00   \n",
       "3 2017-11-01 12:24:00                 NaT                 NaT   \n",
       "4                 NaT                 NaT                 NaT   \n",
       "\n",
       "                  max  \n",
       "0 2017-12-11 12:24:00  \n",
       "1 2017-12-01 12:24:00  \n",
       "2 2017-11-01 12:24:00  \n",
       "3 2017-11-01 12:24:00  \n",
       "4                 NaT  "
      ]
     },
     "execution_count": 80,
     "metadata": {},
     "output_type": "execute_result"
    }
   ],
   "source": [
    "df"
   ]
  },
  {
   "cell_type": "code",
   "execution_count": null,
   "metadata": {},
   "outputs": [],
   "source": []
  }
 ],
 "metadata": {
  "kernelspec": {
   "display_name": "Python 3",
   "language": "python",
   "name": "python3"
  },
  "language_info": {
   "codemirror_mode": {
    "name": "ipython",
    "version": 3
   },
   "file_extension": ".py",
   "mimetype": "text/x-python",
   "name": "python",
   "nbconvert_exporter": "python",
   "pygments_lexer": "ipython3",
   "version": "3.7.3"
  }
 },
 "nbformat": 4,
 "nbformat_minor": 2
}
