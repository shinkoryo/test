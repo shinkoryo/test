{
 "cells": [
  {
   "cell_type": "code",
   "execution_count": 12,
   "metadata": {},
   "outputs": [
    {
     "name": "stdout",
     "output_type": "stream",
     "text": [
      "{'RenewExshare': {'date': '', 'tblname': 'RenewExshare'}, 'PreproMktMoment': {'date': '', 'tblname': 'PreproMktMoment'}}\n",
      "[['', 'RenewExshare'], ['', 'PreproMktMoment']]\n"
     ]
    }
   ],
   "source": [
    "read_list = {'RenewExshare': {'date': '', 'tblname': 'RenewExshare'},\n",
    "             'PreproMktMoment': {'date': '', 'tblname': 'PreproMktMoment'},\n",
    "             'PreproMktMoment': {'date': '', 'tblname': 'PreproMktMoment'}             \n",
    "            }\n",
    "read_list2 = [['','RenewExshare'],\n",
    "              ['', 'PreproMktMoment']\n",
    "              ]\n",
    "print(read_list)\n",
    "print(read_list2)"
   ]
  },
  {
   "cell_type": "code",
   "execution_count": 20,
   "metadata": {},
   "outputs": [
    {
     "name": "stdout",
     "output_type": "stream",
     "text": [
      "[20190707, 'RenewExshare']\n",
      "[20190707, 'PreproMktMoment']\n"
     ]
    }
   ],
   "source": [
    "date = 20190707\n",
    "for i, p in enumerate(read_list2):\n",
    "    if p[1] == \"RenewExshare\":\n",
    "        p[0] = date\n",
    "        print(p)\n",
    "    if p[1] == \"PreproMktMoment\":\n",
    "        p[0] = date\n",
    "        print(p)"
   ]
  },
  {
   "cell_type": "code",
   "execution_count": 21,
   "metadata": {},
   "outputs": [
    {
     "name": "stdout",
     "output_type": "stream",
     "text": [
      "[20190707, 'PreproMktMoment']\n",
      "[[20190707, 'RenewExshare'], [20190707, 'PreproMktMoment']]\n"
     ]
    }
   ],
   "source": [
    "print(p)\n",
    "type(p)\n",
    "print(read_list2)"
   ]
  },
  {
   "cell_type": "code",
   "execution_count": 51,
   "metadata": {},
   "outputs": [],
   "source": [
    "p[\"date\"] = '20190708'"
   ]
  },
  {
   "cell_type": "code",
   "execution_count": 52,
   "metadata": {},
   "outputs": [
    {
     "name": "stdout",
     "output_type": "stream",
     "text": [
      "{'date': '20190708', 'tblname': 'PreproMktMoment'}\n"
     ]
    }
   ],
   "source": [
    "print(p)"
   ]
  },
  {
   "cell_type": "code",
   "execution_count": 26,
   "metadata": {},
   "outputs": [
    {
     "data": {
      "text/plain": [
       "['20190707', ['A'], ['B']]"
      ]
     },
     "execution_count": 26,
     "metadata": {},
     "output_type": "execute_result"
    }
   ],
   "source": [
    "datalist= [['A'],['B']]\n",
    "\n",
    "datalist.insert(0,'20190707')\n",
    "datalist"
   ]
  },
  {
   "cell_type": "code",
   "execution_count": 29,
   "metadata": {},
   "outputs": [],
   "source": [
    "date ='20190701'\n",
    "datalist= [['A'],['B']]\n",
    "for i in datalist:\n",
    "    i.insert(0, date)"
   ]
  },
  {
   "cell_type": "code",
   "execution_count": 30,
   "metadata": {},
   "outputs": [
    {
     "data": {
      "text/plain": [
       "[['20190701', 'A'], ['20190701', 'B']]"
      ]
     },
     "execution_count": 30,
     "metadata": {},
     "output_type": "execute_result"
    }
   ],
   "source": [
    "datalist"
   ]
  },
  {
   "cell_type": "code",
   "execution_count": 33,
   "metadata": {},
   "outputs": [
    {
     "data": {
      "text/plain": [
       "[4, 5, 6]"
      ]
     },
     "execution_count": 33,
     "metadata": {},
     "output_type": "execute_result"
    }
   ],
   "source": [
    "def hoge():\n",
    "    return [1,2,3], [4,5,6], [7,8,9]\n",
    "\n",
    "a = []\n",
    "b = []\n",
    "c = []\n",
    "\n",
    "list1, list2, list3 = hoge()\n",
    "list2"
   ]
  },
  {
   "cell_type": "code",
   "execution_count": 62,
   "metadata": {},
   "outputs": [],
   "source": [
    "list = [[20190707,'AAA'],[20190707,'BBB']]\n",
    "\n",
    "def read(list):\n",
    "    k={}\n",
    "    for i in list:\n",
    "        i[1] = i[1]+ '10'\n",
    "        k.update(i)\n",
    "    return k"
   ]
  },
  {
   "cell_type": "code",
   "execution_count": 63,
   "metadata": {},
   "outputs": [
    {
     "ename": "TypeError",
     "evalue": "cannot convert dictionary update sequence element #0 to a sequence",
     "output_type": "error",
     "traceback": [
      "\u001b[1;31m---------------------------------------------------------------------------\u001b[0m",
      "\u001b[1;31mTypeError\u001b[0m                                 Traceback (most recent call last)",
      "\u001b[1;32m<ipython-input-63-e04f680757a1>\u001b[0m in \u001b[0;36m<module>\u001b[1;34m\u001b[0m\n\u001b[1;32m----> 1\u001b[1;33m \u001b[0mjj\u001b[0m \u001b[1;33m=\u001b[0m \u001b[0mread\u001b[0m\u001b[1;33m(\u001b[0m\u001b[0mlist\u001b[0m\u001b[1;33m)\u001b[0m\u001b[1;33m\u001b[0m\u001b[1;33m\u001b[0m\u001b[0m\n\u001b[0m\u001b[0;32m      2\u001b[0m \u001b[0mprint\u001b[0m\u001b[1;33m(\u001b[0m\u001b[0mjj\u001b[0m\u001b[1;33m)\u001b[0m\u001b[1;33m\u001b[0m\u001b[1;33m\u001b[0m\u001b[0m\n",
      "\u001b[1;32m<ipython-input-62-f8ad780a970a>\u001b[0m in \u001b[0;36mread\u001b[1;34m(list)\u001b[0m\n\u001b[0;32m      5\u001b[0m     \u001b[1;32mfor\u001b[0m \u001b[0mi\u001b[0m \u001b[1;32min\u001b[0m \u001b[0mlist\u001b[0m\u001b[1;33m:\u001b[0m\u001b[1;33m\u001b[0m\u001b[1;33m\u001b[0m\u001b[0m\n\u001b[0;32m      6\u001b[0m         \u001b[0mi\u001b[0m\u001b[1;33m[\u001b[0m\u001b[1;36m1\u001b[0m\u001b[1;33m]\u001b[0m \u001b[1;33m=\u001b[0m \u001b[0mi\u001b[0m\u001b[1;33m[\u001b[0m\u001b[1;36m1\u001b[0m\u001b[1;33m]\u001b[0m\u001b[1;33m+\u001b[0m \u001b[1;34m'10'\u001b[0m\u001b[1;33m\u001b[0m\u001b[1;33m\u001b[0m\u001b[0m\n\u001b[1;32m----> 7\u001b[1;33m         \u001b[0mk\u001b[0m\u001b[1;33m.\u001b[0m\u001b[0mupdate\u001b[0m\u001b[1;33m(\u001b[0m\u001b[0mi\u001b[0m\u001b[1;33m)\u001b[0m\u001b[1;33m\u001b[0m\u001b[1;33m\u001b[0m\u001b[0m\n\u001b[0m\u001b[0;32m      8\u001b[0m     \u001b[1;32mreturn\u001b[0m \u001b[0mk\u001b[0m\u001b[1;33m\u001b[0m\u001b[1;33m\u001b[0m\u001b[0m\n",
      "\u001b[1;31mTypeError\u001b[0m: cannot convert dictionary update sequence element #0 to a sequence"
     ]
    }
   ],
   "source": [
    "jj = read(list)\n",
    "print(jj)"
   ]
  },
  {
   "cell_type": "code",
   "execution_count": 64,
   "metadata": {},
   "outputs": [
    {
     "ename": "ModuleNotFoundError",
     "evalue": "No module named 'psycopg2'",
     "output_type": "error",
     "traceback": [
      "\u001b[1;31m---------------------------------------------------------------------------\u001b[0m",
      "\u001b[1;31mModuleNotFoundError\u001b[0m                       Traceback (most recent call last)",
      "\u001b[1;32m<ipython-input-64-7d2da0a5d979>\u001b[0m in \u001b[0;36m<module>\u001b[1;34m\u001b[0m\n\u001b[1;32m----> 1\u001b[1;33m \u001b[1;32mimport\u001b[0m \u001b[0mpsycopg2\u001b[0m\u001b[1;33m\u001b[0m\u001b[1;33m\u001b[0m\u001b[0m\n\u001b[0m",
      "\u001b[1;31mModuleNotFoundError\u001b[0m: No module named 'psycopg2'"
     ]
    }
   ],
   "source": [
    "import psycopg2"
   ]
  },
  {
   "cell_type": "code",
   "execution_count": 65,
   "metadata": {},
   "outputs": [],
   "source": [
    "list =[{'date': '2019-01-01', 'tbl_name': 'TblA', 'columns':['A', 'B', 'C']},\n",
    "       {'date': '2019-01-01', 'tbl_name': 'TblB', 'columns':['A', 'B', 'C','D']}]"
   ]
  },
  {
   "cell_type": "code",
   "execution_count": 66,
   "metadata": {},
   "outputs": [
    {
     "data": {
      "text/plain": [
       "[{'date': '2019-01-01', 'tbl_name': 'TblA', 'columns': ['A', 'B', 'C']},\n",
       " {'date': '2019-01-01', 'tbl_name': 'TblB', 'columns': ['A', 'B', 'C', 'D']}]"
      ]
     },
     "execution_count": 66,
     "metadata": {},
     "output_type": "execute_result"
    }
   ],
   "source": [
    "list"
   ]
  },
  {
   "cell_type": "code",
   "execution_count": 68,
   "metadata": {},
   "outputs": [
    {
     "name": "stdout",
     "output_type": "stream",
     "text": [
      "2019-01-01\n",
      "2019-01-01\n"
     ]
    }
   ],
   "source": [
    "for p in list:\n",
    "    print(p['date'])"
   ]
  },
  {
   "cell_type": "code",
   "execution_count": 147,
   "metadata": {},
   "outputs": [
    {
     "name": "stdout",
     "output_type": "stream",
     "text": [
      "RenewExshare 2019-07-07 ['nam_id', 'holiday']\n",
      "FenewExshare 2019-07-08 ['aaa', 'bbb', 'ccc']\n",
      "tbltest 2019-07-09 []\n",
      "  []\n"
     ]
    }
   ],
   "source": [
    "class datakey:\n",
    "    def __init__(self, name='', date='', cal=[]):\n",
    "        self.name = name\n",
    "        self.date = date\n",
    "        self.cal = cal\n",
    "\n",
    "list = []\n",
    "\n",
    "t1 = datakey()\n",
    "t1.name = \"RenewExshare\"\n",
    "t1.date = \"2019-07-07\"\n",
    "t1.cal = [\"nam_id\", \"holiday\"]\n",
    "list.append(t1)\n",
    "\n",
    "t2 = datakey()\n",
    "t2.name = \"FenewExshare\"\n",
    "t2.date = \"2019-07-08\"\n",
    "t2.cal = [\"aaa\", \"bbb\", \"ccc\"]\n",
    "list.append(t2)\n",
    "\n",
    "t3 = datakey()\n",
    "t3.name = \"tbltest\"\n",
    "t3.date = \"2019-07-09\"\n",
    "list.append(t3)\n",
    "\n",
    "t4 = datakey()\n",
    "list.append(t4)\n",
    "\n",
    "print(t1.name, t1.date, t1.cal)\n",
    "print(t2.name, t2.date, t2.cal)\n",
    "print(t3.name, t3.date, t3.cal)\n",
    "print(t4.name, t4.date, t4.cal)\n"
   ]
  },
  {
   "cell_type": "code",
   "execution_count": 148,
   "metadata": {},
   "outputs": [
    {
     "name": "stdout",
     "output_type": "stream",
     "text": [
      "session.query(select(tbl.RenewExshare.nam_id, tbl.RenewExshare.holiday).filiter(RenewExshare.date=2019-07-07).all()\n",
      "session.query(select(tbl.FenewExshare.aaa, tbl.FenewExshare.bbb, tbl.FenewExshare.ccc).filiter(FenewExshare.date=2019-07-08).all()\n"
     ]
    }
   ],
   "source": [
    "for x in list:\n",
    "    if x.cal == []:\n",
    "        pass\n",
    "    else:\n",
    "        cals = ', '.join(['tbl.' + x.name + '.' + n for n in x.cal])\n",
    "        query = 'session.query(select(' + cals + ').filiter(' + x.name + '.date='+ x.date+').all()'\n",
    "        print(query)\n"
   ]
  },
  {
   "cell_type": "code",
   "execution_count": null,
   "metadata": {},
   "outputs": [],
   "source": []
  }
 ],
 "metadata": {
  "kernelspec": {
   "display_name": "Python 3",
   "language": "python",
   "name": "python3"
  },
  "language_info": {
   "codemirror_mode": {
    "name": "ipython",
    "version": 3
   },
   "file_extension": ".py",
   "mimetype": "text/x-python",
   "name": "python",
   "nbconvert_exporter": "python",
   "pygments_lexer": "ipython3",
   "version": "3.7.3"
  }
 },
 "nbformat": 4,
 "nbformat_minor": 2
}
