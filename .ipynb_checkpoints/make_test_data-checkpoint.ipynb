{
 "cells": [
  {
   "cell_type": "code",
   "execution_count": 187,
   "metadata": {},
   "outputs": [],
   "source": [
    "import ruamel\n",
    "import ruamel.yaml\n",
    "import codecs\n",
    "import pandas as pd\n",
    "import numpy as np"
   ]
  },
  {
   "cell_type": "code",
   "execution_count": 185,
   "metadata": {},
   "outputs": [],
   "source": [
    "yaml = ruamel.yaml.YAML()\n",
    "with open('glb2.yaml', 'r', encoding=\"utf8\") as yaml_file:\n",
    "    # YAMLのロード\n",
    "    data = yaml.load(yaml_file)"
   ]
  },
  {
   "cell_type": "code",
   "execution_count": 216,
   "metadata": {},
   "outputs": [],
   "source": [
    "class MakeTestData:\n",
    "    def __init__(self, factor, field='00'):\n",
    "        self.field = field\n",
    "        self.factor = factor\n",
    "        self.name = self.factor['name']\n",
    "#         self.formula = self.factor['formula']\n",
    "        self.sources = self.factor['sources']\n",
    "#         self.pattern = self.sources['pattern']\n",
    "\n",
    "    def judge_condition(self):\n",
    "        \n",
    "            \n",
    "    def make_result(self):\n",
    "        df = self.base_df\n",
    "        df['series'] = np.nan\n",
    "#         r = df.series(, )\n",
    "#         return eval(self.formula)\n",
    "    \n",
    "    def make_none_df(self):\n",
    "        pass\n",
    "        \n",
    "    def make_extra_df(self):\n",
    "        pass\n",
    "    \n",
    "    def make_base_df(self):\n",
    "        cols = ['a', 'b', 'c']\n",
    "        values = [[1,2,3],\n",
    "                  [2,2,2]\n",
    "                 ]\n",
    "        \n",
    "        self.base_df = pd.DataFrame(values, columns=cols)\n",
    "        return self.base_df\n",
    "#         values = \n",
    "#         return df\n",
    "    \n",
    "    def add_df(df1, df2):\n",
    "        pass\n",
    "        \n",
    "    def make_df(self):\n",
    "#         args = self.sources.\n",
    "        return self.sources\n",
    "\n"
   ]
  },
  {
   "cell_type": "code",
   "execution_count": 217,
   "metadata": {},
   "outputs": [
    {
     "name": "stdout",
     "output_type": "stream",
     "text": [
      "qtr5y\n",
      "ann5y\n",
      "qtr3y\n",
      "ann3y\n"
     ]
    }
   ],
   "source": [
    "df = {}\n",
    "field = 1\n",
    "for factor in data['factors']:\n",
    "    values = MakeTestData(factor)\n",
    "    df[factor['name']] = values.make_df()\n",
    "    for x in values.sources:\n",
    "        for k, v in x.items():\n",
    "            \n",
    "            print(k)\n",
    "            \n",
    "            \n",
    "    field += 1\n",
    "#     df[factor['name']] = MakeTestData(factor).make_df()\n",
    "    "
   ]
  },
  {
   "cell_type": "code",
   "execution_count": 218,
   "metadata": {},
   "outputs": [
    {
     "data": {
      "text/html": [
       "<div>\n",
       "<style scoped>\n",
       "    .dataframe tbody tr th:only-of-type {\n",
       "        vertical-align: middle;\n",
       "    }\n",
       "\n",
       "    .dataframe tbody tr th {\n",
       "        vertical-align: top;\n",
       "    }\n",
       "\n",
       "    .dataframe thead th {\n",
       "        text-align: right;\n",
       "    }\n",
       "</style>\n",
       "<table border=\"1\" class=\"dataframe\">\n",
       "  <thead>\n",
       "    <tr style=\"text-align: right;\">\n",
       "      <th></th>\n",
       "      <th>a</th>\n",
       "      <th>b</th>\n",
       "      <th>c</th>\n",
       "    </tr>\n",
       "  </thead>\n",
       "  <tbody>\n",
       "    <tr>\n",
       "      <th>0</th>\n",
       "      <td>1</td>\n",
       "      <td>2</td>\n",
       "      <td>3</td>\n",
       "    </tr>\n",
       "    <tr>\n",
       "      <th>1</th>\n",
       "      <td>2</td>\n",
       "      <td>2</td>\n",
       "      <td>2</td>\n",
       "    </tr>\n",
       "  </tbody>\n",
       "</table>\n",
       "</div>"
      ],
      "text/plain": [
       "   a  b  c\n",
       "0  1  2  3\n",
       "1  2  2  2"
      ]
     },
     "execution_count": 218,
     "metadata": {},
     "output_type": "execute_result"
    }
   ],
   "source": [
    "values.make_base_df()"
   ]
  },
  {
   "cell_type": "code",
   "execution_count": 186,
   "metadata": {},
   "outputs": [
    {
     "data": {
      "text/plain": [
       "ordereddict([('table', 'glb2'), ('factors', [ordereddict([('name', 'acc_cf'), ('sources', [ordereddict([('qtr5y', [ordereddict([('formula', '(self.x1 + self.x2)/self.x3')]), ordereddict([('name', 'x1'), ('table', 'tot5y'), ('column', 'qtr'), ('condition', ordereddict([('item', 'a')])), ('pattern', ordereddict([('cur_a_5y', ['USD', 'CHN', 'JPN', 'KRN']), ('rate_a_5y', [0.5]), ('qtr_a_5y', [2])]))]), ordereddict([('name', 'x2'), ('table', 'tot5y'), ('column', 'qtr'), ('condition', ordereddict([('item', 'b')])), ('pattern', ordereddict([('cur_b_5y', ['USD', 'CHN', 'JPN', 'KRN']), ('rate_b_5y', [0.5]), ('qtr_b_5y', [3])]))]), ordereddict([('name', 'x2a'), ('table', 'tot5y'), ('column', 'qtr'), ('condition', ordereddict([('item', 'b')])), ('pattern', ordereddict([('cur_b_5y', ['USD', 'CHN', 'JPN', 'KRN']), ('rate_b_5y', [0.5]), ('qtr_b_5y', [3])]))]), ordereddict([('name', 'x2b'), ('table', 'tot5y'), ('column', 'qtr'), ('condition', ordereddict([('item', 'b')])), ('pattern', ordereddict([('cur_b_5y', ['USD', 'CHN', 'JPN', 'KRN']), ('rate_b_5y', [0.5]), ('qtr_b_5y', [3])]))]), ordereddict([('name', 'x3'), ('table', 'tot5y'), ('column', 'qtr'), ('condition', ordereddict([('item', 'c')])), ('pattern', ordereddict([('cur_c_5y', ['USD', 'CHN', 'JPN', 'KRN']), ('rate_c_5y', [0.5]), ('qtr_c_5y', [10])]))])])]), ordereddict([('ann5y', [ordereddict([('name', 'x1'), ('table', 'tot5y'), ('column', 'ann'), ('condition', ordereddict([('item', 'a')])), ('pattern', ordereddict([('cur_a_5y', ['USD', 'CHN', 'JPN', 'KRN']), ('rate_a_5y', [0.5]), ('ann_a_5y', [10])]))]), ordereddict([('name', 'x2'), ('table', 'tot5y'), ('column', 'ann'), ('condition', ordereddict([('item', 'b')])), ('pattern', ordereddict([('cur_b_5y', ['USD', 'CHN', 'JPN', 'KRN']), ('rate_b_5y', [0.5]), ('ann_b_5y', [2])]))]), ordereddict([('name', 'x1'), ('table', 'tot5y'), ('column', 'ann'), ('condition', ordereddict([('item', 'c')])), ('pattern', ordereddict([('cur_c_5y', ['USD', 'CHN', 'JPN', 'KRN']), ('rate_c_5y', [0.5]), ('ann_c_5y', [3])]))])])]), ordereddict([('qtr3y', [ordereddict([('name', 'x1'), ('table', 'tot3y'), ('column', 'qtr'), ('condition', ordereddict([('item', 'a')])), ('pattern', ordereddict([('cur_a_3y', ['USD', 'CHN', 'JPN', 'KRN']), ('rate_a_3y', [0.5]), ('qtr_a_3y', [3])]))]), ordereddict([('name', 'x2'), ('table', 'tot3y'), ('column', 'qtr'), ('condition', ordereddict([('item', 'b')])), ('pattern', ordereddict([('cur_b_3y', ['USD', 'CHN', 'JPN', 'KRN']), ('rate_b_3y', [0.5]), ('qtr_b_3y', [4])]))]), ordereddict([('name', 'x3'), ('table', 'tot3y'), ('column', 'qtr'), ('condition', ordereddict([('item', 'c')])), ('pattern', ordereddict([('cur_c_3y', ['USD', 'CHN', 'JPN', 'KRN']), ('rate_c_3y', [0.5]), ('qtr_c_3y', [2])]))])])]), ordereddict([('ann3y', [ordereddict([('name', 'x1'), ('table', 'tot3y'), ('column', 'ann'), ('condition', ordereddict([('item', 'a')])), ('pattern', ordereddict([('cur_a_3y', ['USD', 'CHN', 'JPN', 'KRN']), ('rate_a_3y', [0.5]), ('ann_a_3y', [7])]))]), ordereddict([('name', 'x2'), ('table', 'tot3y'), ('column', 'ann'), ('condition', ordereddict([('item', 'b')])), ('pattern', ordereddict([('cur_b_3y', ['USD', 'CHN', 'JPN', 'KRN']), ('rate_b_3y', [0.5]), ('ann_b_3y', [10])]))]), ordereddict([('name', 'x1'), ('table', 'tot3y'), ('column', 'ann'), ('condition', ordereddict([('item', 'c')])), ('pattern', ordereddict([('cur_c_3y', ['USD', 'CHN', 'JPN', 'KRN']), ('rate_c_3y', [0.5]), ('ann_c_3y', [3])]))])])])])])])])"
      ]
     },
     "execution_count": 186,
     "metadata": {},
     "output_type": "execute_result"
    }
   ],
   "source": [
    "data"
   ]
  },
  {
   "cell_type": "code",
   "execution_count": null,
   "metadata": {},
   "outputs": [],
   "source": []
  }
 ],
 "metadata": {
  "kernelspec": {
   "display_name": "Python 3",
   "language": "python",
   "name": "python3"
  },
  "language_info": {
   "codemirror_mode": {
    "name": "ipython",
    "version": 3
   },
   "file_extension": ".py",
   "mimetype": "text/x-python",
   "name": "python",
   "nbconvert_exporter": "python",
   "pygments_lexer": "ipython3",
   "version": "3.7.3"
  }
 },
 "nbformat": 4,
 "nbformat_minor": 2
}
